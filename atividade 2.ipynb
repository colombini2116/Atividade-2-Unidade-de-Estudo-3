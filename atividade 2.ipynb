{
 "cells": [
  {
   "cell_type": "markdown",
   "id": "4e665e45",
   "metadata": {},
   "source": [
    "# 1º passo"
   ]
  },
  {
   "cell_type": "code",
   "execution_count": 1,
   "id": "be839714",
   "metadata": {},
   "outputs": [],
   "source": [
    "lista = []"
   ]
  },
  {
   "cell_type": "code",
   "execution_count": 2,
   "id": "20ab0755",
   "metadata": {},
   "outputs": [],
   "source": [
    "lista.extend([1, 2, 3, 4, 5])"
   ]
  },
  {
   "cell_type": "markdown",
   "id": "f0f60b4c",
   "metadata": {},
   "source": [
    "# 2º passo"
   ]
  },
  {
   "cell_type": "code",
   "execution_count": 3,
   "id": "94b271c5",
   "metadata": {},
   "outputs": [],
   "source": [
    "class Pilha:\n",
    "    def __init__(self):\n",
    "        self.items = []\n",
    "\n",
    "    def esta_vazia(self):\n",
    "        return self.items == []\n",
    "\n",
    "    def empilhar(self, item):\n",
    "        self.items.append(item)\n",
    "\n",
    "    def desempilhar(self):\n",
    "        return self.items.pop()\n",
    "\n",
    "pilha = Pilha()\n",
    "for _ in range(len(lista)):\n",
    "    pilha.empilhar(lista.pop(0))"
   ]
  },
  {
   "cell_type": "markdown",
   "id": "6b910a3a",
   "metadata": {},
   "source": [
    "# 3º passo"
   ]
  },
  {
   "cell_type": "code",
   "execution_count": 4,
   "id": "33657ba1",
   "metadata": {},
   "outputs": [],
   "source": [
    "from collections import deque\n",
    "\n",
    "fila = deque()\n",
    "\n",
    "while not pilha.esta_vazia():\n",
    "    fila.appendleft(pilha.desempilhar())"
   ]
  },
  {
   "cell_type": "markdown",
   "id": "8781b284",
   "metadata": {},
   "source": [
    "# 4º passo"
   ]
  },
  {
   "cell_type": "code",
   "execution_count": 5,
   "id": "d7f66c48",
   "metadata": {},
   "outputs": [],
   "source": [
    "lista.extend([6, 7, 8, 9, 10])"
   ]
  },
  {
   "cell_type": "markdown",
   "id": "9a76824b",
   "metadata": {},
   "source": [
    "# 5º passo"
   ]
  },
  {
   "cell_type": "code",
   "execution_count": 6,
   "id": "4d232596",
   "metadata": {},
   "outputs": [],
   "source": [
    "# Passo 5 - Passo 2\n",
    "for _ in range(len(lista)):\n",
    "    pilha.empilhar(lista.pop(0))\n",
    "\n",
    "# Passo 5 - Passo 3\n",
    "while not pilha.esta_vazia():\n",
    "    fila.appendleft(pilha.desempilhar())"
   ]
  },
  {
   "cell_type": "markdown",
   "id": "9333ec00",
   "metadata": {},
   "source": [
    "# 6º passo"
   ]
  },
  {
   "cell_type": "code",
   "execution_count": 7,
   "id": "94e92e03",
   "metadata": {},
   "outputs": [
    {
     "name": "stdout",
     "output_type": "stream",
     "text": [
      "Números na fila:\n",
      "5\n",
      "4\n",
      "3\n",
      "2\n",
      "1\n",
      "10\n",
      "9\n",
      "8\n",
      "7\n",
      "6\n"
     ]
    }
   ],
   "source": [
    "print(\"Números na fila:\")\n",
    "while fila:\n",
    "    print(fila.pop())"
   ]
  },
  {
   "cell_type": "code",
   "execution_count": null,
   "id": "dbf36e10",
   "metadata": {},
   "outputs": [],
   "source": []
  }
 ],
 "metadata": {
  "kernelspec": {
   "display_name": "Python 3 (ipykernel)",
   "language": "python",
   "name": "python3"
  },
  "language_info": {
   "codemirror_mode": {
    "name": "ipython",
    "version": 3
   },
   "file_extension": ".py",
   "mimetype": "text/x-python",
   "name": "python",
   "nbconvert_exporter": "python",
   "pygments_lexer": "ipython3",
   "version": "3.9.13"
  }
 },
 "nbformat": 4,
 "nbformat_minor": 5
}
